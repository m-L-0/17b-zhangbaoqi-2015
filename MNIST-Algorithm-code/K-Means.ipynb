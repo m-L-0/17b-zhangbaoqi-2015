{
 "cells": [
  {
   "cell_type": "code",
   "execution_count": 6,
   "metadata": {},
   "outputs": [
    {
     "name": "stdout",
     "output_type": "stream",
     "text": [
      "——————————————End——————————————\n",
      "[output]: [[  0.00000000e+00   2.15174010e+06]\n",
      " [  2.00000000e+00   3.59096170e+06]\n",
      " [  5.00000000e+00   2.60270900e+06]\n",
      " ..., \n",
      " [  1.00000000e+00   3.67734983e+06]\n",
      " [  5.00000000e+00   3.61725000e+06]\n",
      " [  4.00000000e+00   1.42128446e+06]]\n"
     ]
    }
   ],
   "source": [
    "from math import *\n",
    "from numpy import *\n",
    "import mnist_reader\n",
    "import random\n",
    "\n",
    "X_test, y_test = mnist_reader.load_mnist('../../data/fashion', kind='t10k')\n",
    "X = X_test[:20000]\n",
    "\n",
    "K = 10\n",
    "\n",
    "#欧氏距离\n",
    "def euclDistance(matrix1, matrix2):\n",
    "    return sqrt(sum((matrix1-matrix2)**2))\n",
    "\n",
    "#初始化K值\n",
    "def initRandomK(X, K):\n",
    "    randomKmeans, d = X.shape\n",
    "    centerodis = zeros((K, d))\n",
    "    for i in range(K):\n",
    "        index = int(random.uniform(0, randomKmeans))\n",
    "        centerodis[i, :] = X[index, :]\n",
    "    return centerodis\n",
    "\n",
    "#K-Means算法实现\n",
    "def Kmeans(X, k):\n",
    "    numDataset = X.shape[0]\n",
    "    clusterseq = mat(zeros((numDataset, 2)))\n",
    "    centerodis = initRandomK(X, k)\n",
    "    boolchange = True\n",
    "    while boolchange:\n",
    "        boolchange = False\n",
    "        for elem in range(X.shape[0]):\n",
    "            minDis = 200000.0\n",
    "            minIndex = 0\n",
    "            #求最小距离，并分类\n",
    "            for rand in range(k):\n",
    "                distance = euclDistance(centerodis[rand, :], X[elem, :])\n",
    "                if distance < minDis:\n",
    "                    minDis = distance\n",
    "                    minIndex = rand\n",
    "            if clusterseq[elem, 0] != minIndex:\n",
    "                boolchange = True\n",
    "                clusterseq[elem, :] = minIndex, minDis**2\n",
    "        #更新均值\n",
    "        for j in range(k):\n",
    "            clusterPoint = X[nonzero(clusterseq[:, 0].A == j)[0]]\n",
    "            centerodis[j, :] = mean(clusterPoint, axis = 0)\n",
    "    print(\"——————————————End——————————————\")\n",
    "    #返回K值列表，已分类数据列表\n",
    "    return centerodis, clusterseq\n",
    "\n",
    "if __name__ == \"__main__\":\n",
    "    centerodis, clusterseq = Kmeans(X, K)\n",
    "    print('[output]:', clusterseq)"
   ]
  },
  {
   "cell_type": "code",
   "execution_count": null,
   "metadata": {
    "collapsed": true
   },
   "outputs": [],
   "source": []
  }
 ],
 "metadata": {
  "kernelspec": {
   "display_name": "Python 3",
   "language": "python",
   "name": "python3"
  },
  "language_info": {
   "codemirror_mode": {
    "name": "ipython",
    "version": 3
   },
   "file_extension": ".py",
   "mimetype": "text/x-python",
   "name": "python",
   "nbconvert_exporter": "python",
   "pygments_lexer": "ipython3",
   "version": "3.5.2"
  }
 },
 "nbformat": 4,
 "nbformat_minor": 2
}
