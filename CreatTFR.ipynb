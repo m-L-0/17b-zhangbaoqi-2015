{
 "cells": [
  {
   "cell_type": "code",
   "execution_count": 7,
   "metadata": {},
   "outputs": [
    {
     "name": "stdout",
     "output_type": "stream",
     "text": [
      "create tfrecords file successful!\n"
     ]
    }
   ],
   "source": [
    "import tensorflow as tf\n",
    "import mnist_reader\n",
    "\n",
    "\n",
    "X_train, y_train = mnist_reader.load_mnist('../../data/fashion', kind='train')\n",
    "X_test, y_test = mnist_reader.load_mnist('../../data/fashion', kind='t10k')\n",
    "\n",
    "X = X_train\n",
    "Y = y_train\n",
    "\n",
    "#转换存储类型为bytes\n",
    "def _bytes_feature(value):\n",
    "    return tf.train.Feature(bytes_list=tf.train.BytesList(value=[value]))\n",
    "\n",
    "#转换存储特征类型为int64\n",
    "def _int64_feature(value):\n",
    "    return tf.train.Feature(int64_list=tf.train.Int64List(value=[value]))\n",
    "\n",
    "writer = tf.python_io.TFRecordWriter(\"fashion_mnist.tfrecords\")\n",
    "\n",
    "original_images = []\n",
    "\n",
    "for x_img, y_label in zip(X, Y):\n",
    "    label = y_label\n",
    "    #将图像转化为二进制形式\n",
    "    img_raw = x_img.tobytes()\n",
    "\n",
    "    original_images.append((x_img, label))\n",
    "    \n",
    "    #tfrecords文件存储特征值\n",
    "    example = tf.train.Example(features=tf.train.Features(feature={\n",
    "        'label': _int64_feature(label),\n",
    "        'image_raw': _bytes_feature(img_raw)\n",
    "    }))\n",
    "    \n",
    "    writer.write(example.SerializeToString())\n",
    "print(\"create tfrecords file successful!\")\n",
    "\n",
    "writer.close()"
   ]
  }
 ],
 "metadata": {
  "kernelspec": {
   "display_name": "Python 3",
   "language": "python",
   "name": "python3"
  },
  "language_info": {
   "codemirror_mode": {
    "name": "ipython",
    "version": 3
   },
   "file_extension": ".py",
   "mimetype": "text/x-python",
   "name": "python",
   "nbconvert_exporter": "python",
   "pygments_lexer": "ipython3",
   "version": "3.5.2"
  }
 },
 "nbformat": 4,
 "nbformat_minor": 2
}
