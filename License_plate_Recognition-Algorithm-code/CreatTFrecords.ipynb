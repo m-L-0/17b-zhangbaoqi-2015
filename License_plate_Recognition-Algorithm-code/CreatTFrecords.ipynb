{
 "cells": [
  {
   "cell_type": "code",
   "execution_count": 1,
   "metadata": {
    "collapsed": false
   },
   "outputs": [
    {
     "name": "stdout",
     "output_type": "stream",
     "text": [
      "create tfrecords file successful!\n"
     ]
    }
   ],
   "source": [
    "from PIL import Image\n",
    "import matplotlib.pyplot as plt\n",
    "import numpy as np\n",
    "import tensorflow as tf\n",
    "import os \n",
    "\n",
    "imgSaveList = [[] for i in range(32)]\n",
    "#读取图片文件\n",
    "rodir = './image-data/汉字/'\n",
    "pathlist = os.listdir(rodir)\n",
    "ind = 0\n",
    "for pathName in pathlist:\n",
    "    for imgPathName in os.listdir(rodir+pathName):\n",
    "        img = Image.open(rodir+pathName+'/'+imgPathName)\n",
    "        imgNparr = np.array(img.resize((28,28)))\n",
    "        # 图片调整\n",
    "        imgSaveList[ind].append(imgNparr[:,:,1])\n",
    "    ind += 1\n",
    "print(len(imgSaveList))\n",
    "\n",
    "#转换存储类型为bytes\n",
    "def _bytes_feature(value):\n",
    "    return tf.train.Feature(bytes_list=tf.train.BytesList(value=[value]))\n",
    "\n",
    "#转换存储特征类型为int64\n",
    "def _int64_feature(value):\n",
    "    return tf.train.Feature(int64_list=tf.train.Int64List(value=[value]))\n",
    "\n",
    "writer = tf.python_io.TFRecordWriter(\"zh_character_train.tfrecords\")\n",
    "\n",
    "for imgIndex in range(len(imgSaveList)):\n",
    "    for x_img in imgSaveList[imgIndex]:\n",
    "        #将图像转化为二进制形式\n",
    "        img_raw = x_img.tobytes() \n",
    "        #存储标签\n",
    "        # label = imgIndex\n",
    "        labels = np.array([0]*32)\n",
    "        labels[imgIndex] = 1\n",
    "        label = labels.tobytes()        \n",
    "        #tfrecords文件存储特征值\n",
    "        example = tf.train.Example(features=tf.train.Features(feature={\n",
    "            'label': _bytes_feature(label),\n",
    "            'image_raw': _bytes_feature(img_raw)\n",
    "        }))\n",
    "        writer.write(example.SerializeToString())\n",
    "print(\"create tfrecords file successful!\")\n",
    "writer.close()"
   ]
  },
  {
   "cell_type": "code",
   "execution_count": null,
   "metadata": {
    "collapsed": true
   },
   "outputs": [],
   "source": []
  }
 ],
 "metadata": {
  "kernelspec": {
   "display_name": "Python 3",
   "language": "python",
   "name": "python3"
  },
  "language_info": {
   "codemirror_mode": {
    "name": "ipython",
    "version": 3
   },
   "file_extension": ".py",
   "mimetype": "text/x-python",
   "name": "python",
   "nbconvert_exporter": "python",
   "pygments_lexer": "ipython3",
   "version": "3.6.0"
  }
 },
 "nbformat": 4,
 "nbformat_minor": 2
}
