{
 "cells": [
  {
   "cell_type": "code",
   "execution_count": 4,
   "metadata": {},
   "outputs": [
    {
     "name": "stdout",
     "output_type": "stream",
     "text": [
      "[output]: [7] 0\n"
     ]
    },
    {
     "data": {
      "image/png": "[encoded data removed]",
      "text/plain": [
       "<matplotlib.figure.Figure at 0x7f737305f630>"
      ]
     },
     "metadata": {},
     "output_type": "display_data"
    },
    {
     "name": "stdout",
     "output_type": "stream",
     "text": [
      "[output]: [5] 1\n"
     ]
    },
    {
     "data": {
      "image/png": "[encoded data removed]",
      "text/plain": [
       "<matplotlib.figure.Figure at 0x7f73697e83c8>"
      ]
     },
     "metadata": {},
     "output_type": "display_data"
    },
    {
     "name": "stdout",
     "output_type": "stream",
     "text": [
      "[output]: [2] 2\n"
     ]
    },
    {
     "data": {
      "image/png": "[encoded data removed]",
      "text/plain": [
       "<matplotlib.figure.Figure at 0x7f73686fb828>"
      ]
     },
     "metadata": {},
     "output_type": "display_data"
    }
   ],
   "source": [
    "import tensorflow as tf\n",
    "import skimage.io as io\n",
    "import matplotlib.pyplot as plt\n",
    "from math import *\n",
    "import mnist_reader\n",
    "\n",
    "X_test, y_test = mnist_reader.load_mnist('../../data/fashion', kind='t10k')\n",
    "X_train, y_train = mnist_reader.load_mnist('../../data/fashion', kind='train')\n",
    "\n",
    "HEIGHT = 28\n",
    "WIDTH = 28\n",
    "\n",
    "filename_queue = tf.train.string_input_producer(['fashion_mnist.tfrecords'])\n",
    "reader = tf.TFRecordReader()\n",
    "\n",
    "_, example = reader.read(filename_queue)\n",
    "features = tf.parse_single_example(\n",
    "    example,\n",
    "    features={\n",
    "        'label':tf.FixedLenFeature([], tf.int64),\n",
    "        'image_raw':tf.FixedLenFeature([], tf.string)\n",
    "    }\n",
    ")\n",
    "image = tf.decode_raw(features['image_raw'], tf.uint8) \n",
    "image = tf.reshape(image, [28, 28, 1])\n",
    "label = tf.cast(features['label'], tf.int32)  \n",
    "\n",
    "image_batch, label_batch = tf.train.shuffle_batch([image, label],  \n",
    "                                                  batch_size=1,  \n",
    "                                                  capacity=100,  \n",
    "                                                  num_threads=2,\n",
    "                                                  min_after_dequeue=50)  \n",
    "image = tf.reshape(image_batch, (HEIGHT, WIDTH))\n",
    "\n",
    "with tf.Session() as sess:\n",
    "    init = tf.global_variables_initializer()\n",
    "    sess.run(init)\n",
    "    coord = tf.train.Coordinator()\n",
    "    threads = tf.train.start_queue_runners(sess=sess, coord=coord)\n",
    "\n",
    "    c = 0\n",
    "\n",
    "    img_label_list = []\n",
    "    coordinateSet = []\n",
    "    o_distance_list = []\n",
    "\n",
    "    for i in range(3):\n",
    "        img, label = sess.run([image, label_batch])\n",
    "        print(\"[output]:\",label,c)\n",
    "        plt.imshow(img)\n",
    "        plt.show()\n",
    "        img_label_list.append((img, label))\n",
    "        c += 1\n",
    "    \n",
    "    coord.request_stop()\n",
    "    coord.join(threads)"
   ]
  },
  {
   "cell_type": "code",
   "execution_count": null,
   "metadata": {
    "collapsed": true
   },
   "outputs": [],
   "source": []
  }
 ],
 "metadata": {
  "kernelspec": {
   "display_name": "Python 3",
   "language": "python",
   "name": "python3"
  },
  "language_info": {
   "codemirror_mode": {
    "name": "ipython",
    "version": 3
   },
   "file_extension": ".py",
   "mimetype": "text/x-python",
   "name": "python",
   "nbconvert_exporter": "python",
   "pygments_lexer": "ipython3",
   "version": "3.5.2"
  }
 },
 "nbformat": 4,
 "nbformat_minor": 2
}
